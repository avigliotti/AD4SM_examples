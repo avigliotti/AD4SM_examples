{
 "cells": [
  {
   "cell_type": "markdown",
   "metadata": {
    "slideshow": {
     "slide_type": "slide"
    }
   },
   "source": [
    "<center> <h1> Automatic Differentiation for Solid Mechanics in Julia</h1> </center>\n",
    "<br>\n",
    "<center> <h2> Andrea Vigliotti</h2> </center>\n",
    "\n",
    "<center> <h2> Juliacon$^{2022}$, July 27$^{\\textrm{th}}$ - 29$^{\\textrm{th}}$, 2022 <h2> </center>\n",
    "\n",
    "<table><tr></tr>\n",
    "<tr>\n",
    "<td> <img src=\"./figures/cira_logo.jpg\" alt=\"Drawing\" style=\"height: 100px;\"/> </td>\n",
    "    <td>  </td>\n",
    "<td> <img src=\"./figures/logo_juliacon2022.jpg\" alt=\"Drawing\" style=\"height: 100px;\"/> </td>\n",
    "</tr></table>"
   ]
  },
  {
   "cell_type": "markdown",
   "metadata": {
    "slideshow": {
     "slide_type": "slide"
    }
   },
   "source": [
    "<h1> Automatic Differentiation for Solid Mechanics in Julia </h1>\n",
    "\n",
    "<br>\n",
    "<br>\n",
    "<ul>\n",
    "<li><h2> Why automatic differentiation for solid mechanics ?</h2></li>\n",
    "<br>    \n",
    "<li><h2> Why Julia ?</h2></li>\n",
    "<br>    \n",
    "<li><h2> AD4SM.jl and some examples </h2></li>\n",
    "</ul> "
   ]
  },
  {
   "cell_type": "markdown",
   "metadata": {
    "slideshow": {
     "slide_type": "skip"
    }
   },
   "source": [
    "<h1> Automatic Differentiation for Solid Mechanics in Julia </h1>\n",
    "\n",
    "<br>\n",
    "<br>\n",
    "<ul>\n",
    "<li><h2> Why automatic differentiation for solid mechanics ?</h2></li>\n",
    "<br>    \n",
    "<li><h2> What type of AD ?</h2></li>\n",
    "<br>    \n",
    "<li><h2> Why Julia ?</h2></li>\n",
    "<br>    \n",
    "<li><h2> AD4SM.jl and some examples </h2></li>\n",
    "</ul> "
   ]
  },
  {
   "cell_type": "markdown",
   "metadata": {
    "slideshow": {
     "slide_type": "skip"
    }
   },
   "source": [
    "<h3><center> The <it>traditional</it> implementation of the Finite Element Method </center> </h3>\n",
    "Cauchy Equilibrium\n",
    "\\begin{align*}\n",
    "\\sigma_{ij,j} + f_i &=0 \\qquad \\text{in} \\quad V \\\\\n",
    "\\sigma_{ij} n_j - g_i &=0 \\qquad \\text{on}\\quad S\n",
    "\\end{align*}"
   ]
  },
  {
   "cell_type": "markdown",
   "metadata": {
    "slideshow": {
     "slide_type": "slide"
    }
   },
   "source": [
    "<h3><center> The <it>traditional</it> implementation of the Finite Element Method </center> </h3>\n",
    "\n",
    "the Virtual Work Principle is\n",
    "\\begin{equation*}\\label{VirtualWork}\n",
    "\\int_{V_0} \\left(P_{ij}\\,\\frac{\\partial F_{ij}}{\\partial u_k}-f_{0_k}\\right)\\, \\delta u_k\\, \\mathrm{d} V_0 -\\int_{S_0} g_{0_k}\\, \\delta u_k\\, \\mathrm{d}S_0=0 \\qquad \\begin{aligned}\n",
    "&\\forall\\, \\delta u_k\\\\[5pt]\n",
    "&\\ k = 1,2,3\n",
    "\\end{aligned} \n",
    "\\end{equation*}"
   ]
  },
  {
   "cell_type": "markdown",
   "metadata": {
    "slideshow": {
     "slide_type": "fragment"
    }
   },
   "source": [
    "the residual force vector is\n",
    "\\begin{equation*}\n",
    "\\mathbf{r}=\\sum_{k=1}^{N_{BE}} \\sum_{l=1}^{N_{BW}^k} w_l^k\\, \\left[P_{ij}\\frac{\\partial \n",
    "    F_{ij}}{\\partial \\mathbf{u}} - \\mathbf{f}_0 \\right]_{r^k_l} -\n",
    "\\sum_{k=1}^{N_{SE}} \\sum_{l=1}^{N_{SW}^k} v_l^k\\, \\left[\\mathbf{g}_0\\right]_{r^k_l}=\\mathbf{0}\n",
    "\\end{equation*}"
   ]
  },
  {
   "cell_type": "markdown",
   "metadata": {
    "slideshow": {
     "slide_type": "fragment"
    }
   },
   "source": [
    "the tangent stiffness matrix is\n",
    "\\begin{equation*}\n",
    "\\begin{split}\n",
    "\\frac{\\partial \\mathbf{r}}{\\partial \\mathbf{u}}= \\sum_{k=1}^{N_{BE}} \\sum_{l=1}^{N_{BW}^k} w_l^k\\, \n",
    "\\left[\\frac{\\partial P_{ij}}{\\partial F_{hk}}\\frac{\\partial F_{hk}}{\\partial \\mathbf{u}}\\frac{\\partial \n",
    "    F_{ij}}{\\partial \\mathbf{u}}  - \n",
    "\\frac{\\partial \\mathbf{f}_0}{\\partial \\mathbf{u}}\\right]_{r^k_l}  - \\sum_{k=1}^{N_{SE}} \n",
    "\\sum_{l=1}^{N_{SW}^k} v_l^k\\, \\left[\\frac{\\partial \\mathbf{g}_0}{\\partial \\mathbf{u}}\\right]_{r^k_l}\n",
    "\\end{split}\n",
    "\\end{equation*}"
   ]
  },
  {
   "cell_type": "markdown",
   "metadata": {
    "slideshow": {
     "slide_type": "subslide"
    }
   },
   "source": [
    "<h3><center> Free energy minimization principle </center></h3>\n",
    "    \n",
    "\\begin{equation*}\n",
    "    \\delta U = 0 \\qquad \\text{with} \\qquad U = \\int_{V_0} \\left(\\phi-b_0\\right) \\,\\mathrm{d}V_0 - \\int_{S_0} t_0 \\,\\mathrm{d}S_0\\, \n",
    "\\end{equation*}"
   ]
  },
  {
   "cell_type": "markdown",
   "metadata": {
    "slideshow": {
     "slide_type": "fragment"
    }
   },
   "source": [
    "we can use FE discretization for evaluating $U$\n",
    "\\begin{equation*}\n",
    "    U(\\mathbf{u}) = \\sum_{k=1}^{N_{BE}} \\sum_{l=1}^{N_{BW}^k} w_l^k \\left[\\phi + b_{0}\\right]_{r^k_l} + \n",
    "    \\sum_{k=1}^{N_{SE}} \\sum_{l=1}^{N_{SW}^k} v_l^k\\, \\left[t_0\\right]_{r^k_l}\n",
    "\\end{equation*}"
   ]
  },
  {
   "cell_type": "markdown",
   "metadata": {
    "slideshow": {
     "slide_type": "fragment"
    }
   },
   "source": [
    "the residual force vector is \n",
    "\\begin{equation*}\n",
    "\\mathbf{r} = \\frac{\\partial\\, U}{\\partial \\mathbf{u}} =0 \n",
    "\\end{equation*}\n",
    "\n",
    "the tangent stiffness matrix is\n",
    "\\begin{equation*}\n",
    "\t\\frac{\\partial \\mathbf{r}}{\\partial \\mathbf{u}} = \\frac{\\partial^2\\, U}{\\partial \\mathbf{u} \\partial \\mathbf{u}}\n",
    "\\end{equation*}"
   ]
  },
  {
   "cell_type": "markdown",
   "metadata": {
    "slideshow": {
     "slide_type": "skip"
    }
   },
   "source": [
    "In the presence of complex boundary conditions and constraints we use AD with Lagrange Multipliers\n",
    "\n",
    "\\begin{equation*}\n",
    "L\\left(\\mathbf{u}, \\mathbf{\\lambda}\\right) = U\\left(\\mathbf{u}\\right) - \\mathbf{\\lambda}\\cdot \n",
    "\\mathbf{g}\\left(\\mathbf{u}\\right)\n",
    "\\end{equation*}\n",
    "\n",
    "equilibrium is\n",
    "\n",
    "\\begin{equation*}\n",
    "\\nabla L = \\mathbf{0}\n",
    "\\end{equation*}\n",
    "with:\n",
    "\n",
    "\\begin{align*}\n",
    "\\nabla L &= \\left[\\begin{matrix}\n",
    "\\dfrac{\\partial U}{\\partial \\mathbf{u}} - \\mathbf{\\lambda} \\cdot \\dfrac{\\partial \\mathbf{g}}{\\partial \\mathbf{u}}\\\\[5pt]\n",
    "-\\mathbf{g}\n",
    "\\end{matrix}\\right]   %\\\\[5pt]\n",
    "\\qquad \\text{and} \\qquad\n",
    "\\nabla^2 L &= \\left[\\begin{matrix}\n",
    "\\dfrac{\\partial^2 U}{\\partial \\mathbf{u}\\partial \\mathbf{u}} - \\mathbf{\\lambda} \\cdot \\dfrac{\\partial^2 \\mathbf{g}}{\\partial \\mathbf{u}\\partial \\mathbf{u}} & \\hspace{20pt}-\\dfrac{\\partial \\mathbf{g}}{\\partial \\mathbf{u}}^T \\\\[5pt]\n",
    "-\\dfrac{\\partial \\mathbf{g}}{\\partial \\mathbf{u}} & \\hspace{20pt}\\mathbf{0}\n",
    "\\end{matrix}\\right]\n",
    "\\end{align*}"
   ]
  },
  {
   "cell_type": "markdown",
   "metadata": {
    "slideshow": {
     "slide_type": "slide"
    }
   },
   "source": [
    "<h2> The rod element </h2>\n",
    "\n",
    "<h4> the free energy is </h4>\n",
    "<center>\n",
    "\\begin{equation*}\n",
    "\\phi^\\text{rod} = \\frac{1}{2}\\,E_s\\,A\\,l_0  \\left( \\frac{l}{l_0}-1 \\right)^2 \\qquad \\text{with} \\qquad \\begin{cases} l_0 &= \\|\\mathbf{r}_2-\\mathbf{r}_1\\| \\\\[10pt] l &= \\|\\mathbf{r}_2-\\mathbf{r}_1 + \\mathbf{u}_2-\\mathbf{u}_1\\| \\end{cases}\n",
    "\\end{equation*}\n",
    "</center>    \n"
   ]
  },
  {
   "cell_type": "markdown",
   "metadata": {
    "slideshow": {
     "slide_type": "fragment"
    }
   },
   "source": [
    "<h4> the residual force vector and the tangent stiffness matrix are </h4>\n",
    "\n",
    "<br>\n",
    "\\begin{align*}\n",
    "\\mathbf{r} = \\frac{\\partial}{\\partial \\mathbf{u}}\\phi^\\text{rod} &= E_s A \\left(\\frac{l}{l_0}-1\\right)\\frac{\\partial l}{\\partial \\mathbf{u}} \\\\[5pt]\n",
    "\\mathbf{K}_t = \\frac{\\partial^2}{\\partial \\mathbf{u}\\partial \\mathbf{u}}\\phi^\\text{rod} &= E_s A \\left[\\frac{1}{l_0} \\frac{\\partial l}{\\partial \\mathbf{u}} \\frac{\\partial l}{\\partial \\mathbf{u}} + \\left(\\frac{l}{l_0}-1\\right)\\frac{\\partial^2 l}{\\partial \\mathbf{u}\\partial \\mathbf{u}}\\right]\n",
    "\\end{align*}\n",
    "<br>\n",
    "where\n",
    "<br>\n",
    "$$\n",
    "\\frac{\\partial l}{\\partial \\mathbf{u}} = \\frac{1}{l}\\left[\\begin{matrix}-\\Delta r_1\\\\-\\Delta r_2\\\\-\\Delta r_3\\\\\\Delta r_1\\\\\\Delta r_2\\\\\\Delta r_3\\end{matrix}\\right] \n",
    "\\qquad \\qquad\n",
    "\\frac{\\partial^2 l}{\\partial \\mathbf{u}\\partial \\mathbf{u}} = \\left[\\begin{matrix}1&0&0&-1&0&0\\\\0&1&0&0&-1&0\\\\0&0&1&0&0&-1\\\\-1&0&0&1&0&0\\\\0&-1&0&0&1&0\\\\0&0&-1&0&0&1\\end{matrix}\\right]\n",
    "$$"
   ]
  },
  {
   "cell_type": "code",
   "execution_count": null,
   "metadata": {
    "slideshow": {
     "slide_type": "fragment"
    }
   },
   "outputs": [],
   "source": [
    "function calcFiKt(nodes, u)\n",
    "  \n",
    "  l0       = norm(nodes[:,2]-nodes[:,1])\n",
    "  l        = norm(nodes[:,2]+u[:,2] - (nodes[:,1]+u[:,1]))  \n",
    "  ϕ        = l0/2 *(l/l0-1)^2\n",
    "\n",
    "  Δx,Δy,Δz = u[:]\n",
    "  dldu     = [-Δx, -Δy, -Δz, Δx, Δy, Δz]/l;\n",
    "  d2ldu2   = [ 1.0 0.0 0.0 -1.0 0.0 0.0;\n",
    "               0.0 1.0 0.0 0.0 -1.0 0.0; \n",
    "               0.0 0.0 1.0 0.0 0.0 -1.0;\n",
    "               -1.0 0.0 0.0 1.0 0.0 0.0; \n",
    "               0.0 -1.0 0.0 0.0 1.0 0.0; \n",
    "               0.0 0.0 -1.0 0.0 0.0 1.0]\n",
    "  dphidl   = (l/l0-1)/l0\n",
    "  dphi2dl2 = 1/l0^2  \n",
    "  fact1    = -dphidl/l^2 + dphi2dl2/l; \n",
    "  \n",
    "  r        = dphidl * dldu;\n",
    "  Kt       = fact1*l*(dldu*transpose(dldu)) + (dphidl/l)*d2ldu2\n",
    "\n",
    "  (ϕ, r, Kt)\n",
    "end"
   ]
  },
  {
   "cell_type": "code",
   "execution_count": null,
   "metadata": {
    "slideshow": {
     "slide_type": "fragment"
    }
   },
   "outputs": [],
   "source": [
    "function getϕ(nodes, u)\n",
    "    \n",
    "  l0       = norm(nodes[:,2]-nodes[:,1])\n",
    "  l        = norm(nodes[:,2]+u[:,2] - (nodes[:,1]+u[:,1]))  \n",
    "  ϕ        = l0/2 *(l/l0-1)^2\n",
    "end"
   ]
  },
  {
   "cell_type": "markdown",
   "metadata": {
    "slideshow": {
     "slide_type": "skip"
    }
   },
   "source": [
    "<center> <h1> What type of automatic differentiation? </h1> </center>\n",
    "\n",
    "\n",
    "\n",
    "Forward mode AD works well for solid mechanics\n",
    "<br>\n",
    "\n",
    "<ul>\n",
    "<li> Even if a FE model can have millions of degrees of freedom, at each integration point, only the local element DoFs are involved, and in the most common cases\n",
    "    <ul>\n",
    "        <li> 2D tria have 6 DoFs </li>\n",
    "        <li> 2D quads have 6 DoFs </li>\n",
    "        <li> 3D hexa have 24 DoFs </li>\n",
    "    </ul>    \n",
    "    </li>\n",
    "<li> At integration points the free energy is usually a function of the deformation gradient </li>\n",
    "<li> The calculation of each element contribution is independent from the others</li>    \n",
    "<li> First order forward AD system can be expanded to calculate first and second derivatives simulataneously </li>    \n",
    "</ul> "
   ]
  },
  {
   "cell_type": "markdown",
   "metadata": {
    "slideshow": {
     "slide_type": "slide"
    }
   },
   "source": [
    "<center> <h1> Why Julia ? </h1> </center>\n",
    "\n",
    "\n",
    "<table background-color=\"white\">\n",
    "<tr></tr>\n",
    "<tr> <td> <h2>JIT Just In Time compiler </h2></td> <td>  $\\quad \\Rightarrow \\quad$ </td> <td style=\"text-align:center\"> <h2> Julia is fast </h2></td>  </tr>\n",
    "<tr></tr>\n",
    "<tr><td><h2> Parametric/Dynamic type system </h2></td> <td>  $\\quad \\Rightarrow \\quad$ </td style=\"text-align:center\"> <td> <h2>Implementing an AD system is easy</h2></td> </tr>\n",
    "<tr></tr>\n",
    "<tr> <td> <h2>Multiple Dispatch </h2></td> <td>  $\\quad \\Rightarrow \\quad$ </td> <td style=\"text-align:center\"> <h2>No need to rewrite code</h2> </td></tr>\n",
    "<!-- <tr></tr><tr> <td> <h2>Multithreading/Distributed </h2></td> <td>  $\\quad \\Rightarrow \\quad$ </td> <td style=\"text-align:center\"> <h2>Easily scalable code</h2> </td></tr> -->\n",
    "</table>\n"
   ]
  },
  {
   "cell_type": "markdown",
   "metadata": {
    "slideshow": {
     "slide_type": "slide"
    }
   },
   "source": [
    "<h1><center> AD4SM.jl </center></h1>\n",
    "<ul>\n",
    "<li> A second order forward mode AD system </li>\n",
    "    <li> A <u>basic</u> library of elements <ul>\n",
    "<li> Continous elements\n",
    "<ul>\n",
    "<li> 2D elments\n",
    "    <ul>\n",
    "        <li> Triangular    </li>\n",
    "        <li> Quadrilateral </li>\n",
    "    </ul>\n",
    "</li>\n",
    "<li> 3D elments\n",
    "    <ul>\n",
    "        <li> Tetrahedron    </li>\n",
    "        <li> Hexahedron </li>\n",
    "    </ul>\n",
    "</li>\n",
    "</li>\n",
    "<li> Structural elments\n",
    "    <ul>\n",
    "        <li> Rods    </li>\n",
    "        <li> Beams </li>\n",
    "    </ul>\n",
    "</li>\n",
    "</ul> </li>\n",
    "<li> Constraint equations </li>\n",
    "<li> Iterative non-linear solver </li>\n",
    "</ul>"
   ]
  },
  {
   "cell_type": "markdown",
   "metadata": {
    "slideshow": {
     "slide_type": "slide"
    }
   },
   "source": [
    "<h4><center> A second order forward mode AD system </center></h4>\n",
    "\n",
    "<p> AD4SM.jl AD follows is based on ForwardDiff.jl. </p>\n",
    "\n",
    "<ul>\n",
    "    <li>a <i>first order</i> dual number is quantity of the type:\n",
    "        \\begin{equation*}\n",
    "    \\textbf{x} \\equiv x_0 + x_i\\, \\textbf{i}_i\n",
    "        \\end{equation*}\n",
    "    </li>\n",
    "    <li>a <i>second order</i> dual number is quantity of the type:\n",
    "        \\begin{equation*}\n",
    "    \\textbf{x} \\equiv x_0 + x_i\\, \\textbf{i}_i + x_{ij}\\, \\textbf{i}_{ij}\n",
    "        \\end{equation*}\n",
    "    </li>\n",
    "</ul>\n",
    "\n",
    "where :\n",
    "-     $x_i$ are the components of the gradient \n",
    "-     $x_{ij}$ are the components of the Hessian. \n"
   ]
  },
  {
   "cell_type": "markdown",
   "metadata": {
    "slideshow": {
     "slide_type": "fragment"
    }
   },
   "source": [
    "`D2` is a possible structure for storing the value, the gradient and the hessian of a quantity\n",
    "\n",
    "```Julia\n",
    "struct D2{T,N,M} <:Number \n",
    "  v::T\n",
    "  g::NTuple{N,T}\n",
    "  h::NTuple{M,T}\n",
    "end\n",
    "```\n",
    "\n",
    "with\n",
    "- `T` the type of the values\n",
    "- `N` the number of independent variables controlling the gradient\n",
    "- `M` = N(N+1)÷2 is the number of independent elements in the Hessian"
   ]
  },
  {
   "cell_type": "markdown",
   "metadata": {
    "slideshow": {
     "slide_type": "slide"
    }
   },
   "source": [
    "<h4> extending operators to work with D2 type </h4>\n",
    "\n",
    "we now need to properly extend the arithmetic opertors over the `D2` type, given two dual numbers of the type:\n",
    "$$\\mathbf{x} \\equiv x_0 + x_i\\, \\mathbf{i}_i + x_{ij}\\, \\mathbf{i}_{ij}$$\n",
    "$$\\textbf{y} \\equiv y_0 + y_i\\, \\textbf{i}_i + y_{ij}\\, \\textbf{i}_{ij}$$\n",
    "\n",
    "\n",
    "- the sum rule is:\n",
    "$$\\textbf{x} + \\textbf{y} = x_0+y_0 + \\left(x_i+y_i\\right) \\textbf{i}_i + \\left(x_{ij}+y_{ij}\\right) \\textbf{i}_{ij} \\qquad \\text{with} \\qquad \\begin{cases}i=1\\dots N\\\\\n",
    "j=1\\dots i\\\\\\end{cases}$$\n"
   ]
  },
  {
   "cell_type": "markdown",
   "metadata": {
    "slideshow": {
     "slide_type": "fragment"
    }
   },
   "source": [
    "- the product rule is:\n",
    "\n",
    "$$\\textbf{x}  \\textbf{y} = x_0y_0 + \\left(y_0 x_i+x_0 y_i\\right) \\textbf{i}_i + \\left(x_{ij}y_0 + x_i y_j + x_j y_i + x_0 y_{ij}\\right) \\textbf{i}_{ij} $$"
   ]
  },
  {
   "cell_type": "markdown",
   "metadata": {
    "slideshow": {
     "slide_type": "fragment"
    }
   },
   "source": [
    "- the inverse rule is:\n",
    "$$\\frac{1}{\\textbf{x}} = \\frac{1}{x_0} - \\frac{1}{x_0^2}\\, x_i\\, \\textbf{i}_i + \\left(\\frac{2}{x_0^3} x_i x_j -\\frac{1}{x_0} x_{ij}\\right)\\, \\textbf{i}_{ij} $$\n"
   ]
  },
  {
   "cell_type": "markdown",
   "metadata": {
    "slideshow": {
     "slide_type": "fragment"
    }
   },
   "source": [
    "- the power rule is:\n",
    "\n",
    "$$\\textbf{x}^n = x_0^n + \\left(n\\,x_0^{n-1}\\, x_i\\right)\\, \\textbf{i}_i + \\left[n\\,(n-1)\\,x_0^{n-2}\\, x_ix_j + n\\,x_0^{n-1}\\, x_{ij}\\right]\\, \\textbf{i}_{ij}$$"
   ]
  },
  {
   "cell_type": "markdown",
   "metadata": {
    "slideshow": {
     "slide_type": "skip"
    }
   },
   "source": [
    "<h1> Some examples </h1>\n",
    "<p> Simulation results of models with both geometric and material non linearities including non trivial constraints and boundary conditions </p>\n",
    "    \n",
    "    \n",
    "<table><tr></tr>\n",
    "<tr>\n",
    "<td> <video controls autoplay loop src=\"./figures/AxSymDomainj_e.mp4\" width=300/> </td>\n",
    "<td> <video controls autoplay loop src=\"./figures/AxSymDomainj_d.mp4\" width=300/>  </td>\n",
    "<td>    \n",
    "<video controls autoplay loop src=\"./figures/Pattern2D03FinerMesh02j.mp4\" width=400/> \n",
    "</td>    \n",
    "</tr>\n",
    "</table>\n",
    "<table><tr></tr>\n",
    "<tr><td><center>\n",
    "    <video controls autoplay loop src=\"./figures/example05c.mp4\" width=1000/>\n",
    "    </center></td></tr>\n",
    "</table>\n",
    "\n",
    "<p>\n",
    "more details in \n",
    "<p> <b> Automatic Differentiation for Solid Mechanics </b>. Vigliotti, A., Auricchio, F. <i>Arch Computat Methods Eng</i> <b>28</b>, 875–895 (2021) </p>\n",
    "</p>"
   ]
  },
  {
   "cell_type": "markdown",
   "metadata": {
    "slideshow": {
     "slide_type": "subslide"
    }
   },
   "source": [
    "<p> Simulation results of models with both geometric and material non linearities including non trivial constraints and boundary conditions </p>\n",
    "        \n",
    "<table><tr></tr>\n",
    "<tr>\n",
    "<td> <video controls autoplay loop src=\"./figures/AxSymDomainj_d.mp4\" width=500/>  </td>\n",
    "<td>    \n",
    "<video controls autoplay loop src=\"./figures/Pattern2D03FinerMesh02j.mp4\" width=625/> \n",
    "</td>    \n",
    "</tr>\n",
    "</table>\n",
    "<table><tr></tr>\n",
    "<tr><td><center>\n",
    "    <video controls autoplay loop src=\"./figures/example05c.mp4\" width=900/>\n",
    "    </center></td></tr>\n",
    "</table>\n",
    "\n",
    "<p>\n",
    "more details in \n",
    "<p> <b> Automatic Differentiation for Solid Mechanics </b>. Vigliotti, A., Auricchio, F. <i>Arch Computat Methods Eng</i> <b>28</b>, 875–895 (2021) </p>\n",
    "</p>"
   ]
  },
  {
   "cell_type": "markdown",
   "metadata": {
    "slideshow": {
     "slide_type": "subslide"
    }
   },
   "source": [
    "<h2> Fracture toughness of Ceramic Matrix Composites </h2>"
   ]
  },
  {
   "cell_type": "markdown",
   "metadata": {
    "slideshow": {
     "slide_type": "-"
    }
   },
   "source": [
    "\n",
    "\\begin{equation*}\n",
    "    U(u,d) = \\phi^{-} + (1-d^2)\\, \\phi^{+} + \\frac{G_c}{2}\\left(d^2 + d_{,i}d_{,i}\\right)\n",
    "\\end{equation*}\n"
   ]
  },
  {
   "cell_type": "markdown",
   "metadata": {
    "slideshow": {
     "slide_type": "fragment"
    }
   },
   "source": [
    "<table>\n",
    "    <tr></tr>\n",
    "<tr><td> <video controls autoplay loop src=\"./figures/cn_central_matrix_2x2_r500L1596lc0075lcf3000tht00mu0050rho0005tmov.mp4\" width=600> </td>\n",
    "<td> <video controls autoplay loop src=\"./figures/cn_central_matrix_2x2_r500L1596lc0075lcf3000tht00mu0250rho0005tmov.mp4\" width=600> </td>    </tr>\n",
    "</table>\n",
    "<table>\n",
    "    <tr></tr>\n",
    "<tr><td> <video controls autoplay loop src=\"./figures/cn_central_matrix_2x2_r500L1596lc0075lcf3000tht00pdd0001cmov.mp4\" width=600> </td>\n",
    "<td> <video controls autoplay loop src=\"./figures/cn_central_matrix_2x2_r500L1596lc0075lcf3000tht00pdd0050cmov.mp4\" width=600> </td>    </tr>\n",
    "</table>"
   ]
  },
  {
   "cell_type": "markdown",
   "metadata": {
    "slideshow": {
     "slide_type": "skip"
    }
   },
   "source": [
    "<center>\n",
    "<h1> Thank you!  </h1>\n",
    "\n",
    "<h3> a.vigliotti@cira.it </h3>\n",
    "</center>"
   ]
  },
  {
   "cell_type": "markdown",
   "metadata": {
    "slideshow": {
     "slide_type": "notes"
    }
   },
   "source": [
    "140_000 nodes, 420_000 DoFs, 15 sec per iteration"
   ]
  }
 ],
 "metadata": {
  "celltoolbar": "Slideshow",
  "kernelspec": {
   "display_name": "Julia 1.7.3",
   "language": "julia",
   "name": "julia-1.7.3"
  },
  "language_info": {
   "file_extension": ".jl",
   "mimetype": "application/julia",
   "name": "julia",
   "version": "1.7.3"
  },
  "rise": {
   "scroll": true
  }
 },
 "nbformat": 4,
 "nbformat_minor": 4
}
